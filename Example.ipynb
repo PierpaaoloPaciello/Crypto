{
 "cells": [
  {
   "cell_type": "markdown",
   "metadata": {},
   "source": [
    "### Trading Framework Usage Guide\n",
    "\n",
    "This notebook demonstrates how to use the trading framework built in the `CryptoKit` file. We will import the classes and methods to manage data retrieval, API connections, and order execution.\n",
    "\n",
    "---\n",
    "\n",
    "#### Setup\n",
    "\n",
    "First, ensure you have the required dependencies installed:\n",
    "\n",
    "```bash\n",
    "pip install ccxt alpaca-trade-api pandas\n",
    "```\n",
    "\n",
    "Create a `config.json` file in the same directory with your API credentials:\n",
    "\n",
    "```json\n",
    "{\n",
    "    \"binance\": {\n",
    "        \"key\": \"your-binance-api-key\",\n",
    "        \"secret\": \"your-binance-secret-key\"\n",
    "    },\n",
    "    \"cryptocom\": {\n",
    "        \"key\": \"your-cryptocom-api-key\",\n",
    "        \"secret\": \"your-cryptocom-secret-key\"\n",
    "    },\n",
    "    \"alpaca\": {\n",
    "        \"key\": \"your-alpaca-api-key\",\n",
    "        \"secret\": \"your-alpaca-secret-key\"\n",
    "    }\n",
    "}\n",
    "```\n",
    "\n",
    "---"
   ]
  },
  {
   "cell_type": "markdown",
   "metadata": {},
   "source": [
    "## **1. Initialization**"
   ]
  },
  {
   "cell_type": "code",
   "execution_count": 30,
   "metadata": {},
   "outputs": [],
   "source": [
    "import time\n",
    "from crypto_kit import Logger, Listener, AlpacaOrderManager, OrderType, APIKey\n",
    "from datetime import datetime\n",
    "\n",
    "# Load configuration\n",
    "import json\n",
    "with open(\"config.json\", \"r\") as config_file:\n",
    "    config = json.load(config_file)"
   ]
  },
  {
   "cell_type": "code",
   "execution_count": 31,
   "metadata": {},
   "outputs": [
    {
     "name": "stdout",
     "output_type": "stream",
     "text": [
      "Initialization complete.\n"
     ]
    }
   ],
   "source": [
    "# Initialize the Logger\n",
    "logger = Logger(db_path=\"example_logs.db\")\n",
    "\n",
    "# Initialize AlpacaOrderManager with API keys\n",
    "alpaca_credentials = APIKey(\n",
    "    key=config.get(\"alpaca\", {}).get(\"key\", \"\"), \n",
    "    secret=config.get(\"alpaca\", {}).get(\"secret\", \"\")\n",
    ")\n",
    "order_manager = AlpacaOrderManager(\n",
    "    exchange_id=\"alpaca\", \n",
    "    credentials=alpaca_credentials,\n",
    "    logger=logger\n",
    ")\n",
    "\n",
    "# Initialize Listener for live prices\n",
    "listener = Listener(\n",
    "    exchange_id=\"binance\",\n",
    "    crypto_symbols=[\"BTC/USDT\", \"ETH/USDT\"],\n",
    "    logger=logger\n",
    ")\n",
    "\n",
    "print(\"Initialization complete.\")"
   ]
  },
  {
   "cell_type": "markdown",
   "metadata": {},
   "source": [
    "## **2. Logging Demonstration**\n",
    "\n",
    "The `Logger` class logs messages to both the console and a SQLite database. Let's add an example log entry."
   ]
  },
  {
   "cell_type": "code",
   "execution_count": 32,
   "metadata": {},
   "outputs": [
    {
     "name": "stderr",
     "output_type": "stream",
     "text": [
      "2024-12-23 17:03:06,038 - Starting the CryptoKit Example Notebook\n"
     ]
    },
    {
     "name": "stdout",
     "output_type": "stream",
     "text": [
      "Log entry added. Check `example_logs.db` for details.\n"
     ]
    }
   ],
   "source": [
    "logger.log(\"Starting the CryptoKit Example Notebook\")\n",
    "print(\"Log entry added. Check `example_logs.db` for details.\")"
   ]
  },
  {
   "cell_type": "markdown",
   "metadata": {},
   "source": [
    "## **3. Fetching Live Prices**\n",
    "\n",
    "The `Listener` class can fetch live prices of cryptocurrencies. Below, we fetch the live price of `BTC/USDT`."
   ]
  },
  {
   "cell_type": "code",
   "execution_count": 33,
   "metadata": {},
   "outputs": [
    {
     "name": "stdout",
     "output_type": "stream",
     "text": [
      "Fetching live price of BTC/USDT:\n"
     ]
    },
    {
     "name": "stderr",
     "output_type": "stream",
     "text": [
      "2024-12-23 17:03:06,293 - Live price of BTC/USDT: 93363.6\n"
     ]
    },
    {
     "name": "stdout",
     "output_type": "stream",
     "text": [
      "Live price of BTC/USDT: 93363.6\n"
     ]
    }
   ],
   "source": [
    "print(\"Fetching live price of BTC/USDT:\")\n",
    "price = listener.fetch_price(\"BTC/USDT\")\n",
    "if price:\n",
    "    print(f\"Live price of {price.symbol}: {price.price}\")\n",
    "else:\n",
    "    print(\"Failed to fetch live price.\")"
   ]
  },
  {
   "cell_type": "markdown",
   "metadata": {},
   "source": [
    "## **4. Continuous Live Price Updates**\n",
    "\n",
    "We can listen to continuous updates of cryptocurrency prices. This example demonstrates five price updates."
   ]
  },
  {
   "cell_type": "code",
   "execution_count": 34,
   "metadata": {},
   "outputs": [
    {
     "name": "stdout",
     "output_type": "stream",
     "text": [
      "Starting listener for live prices:\n"
     ]
    },
    {
     "name": "stderr",
     "output_type": "stream",
     "text": [
      "2024-12-23 17:03:06,557 - Live price of BTC/USDT: 93345.51\n"
     ]
    },
    {
     "name": "stdout",
     "output_type": "stream",
     "text": [
      "Live price update: BTC/USDT is 93345.51\n"
     ]
    },
    {
     "name": "stderr",
     "output_type": "stream",
     "text": [
      "2024-12-23 17:03:07,833 - Live price of BTC/USDT: 93371.54\n"
     ]
    },
    {
     "name": "stdout",
     "output_type": "stream",
     "text": [
      "Live price update: BTC/USDT is 93371.54\n"
     ]
    },
    {
     "name": "stderr",
     "output_type": "stream",
     "text": [
      "2024-12-23 17:03:09,106 - Live price of BTC/USDT: 93403.95\n"
     ]
    },
    {
     "name": "stdout",
     "output_type": "stream",
     "text": [
      "Live price update: BTC/USDT is 93403.95\n"
     ]
    },
    {
     "name": "stderr",
     "output_type": "stream",
     "text": [
      "2024-12-23 17:03:10,367 - Live price of BTC/USDT: 93403.94\n"
     ]
    },
    {
     "name": "stdout",
     "output_type": "stream",
     "text": [
      "Live price update: BTC/USDT is 93403.94\n"
     ]
    },
    {
     "name": "stderr",
     "output_type": "stream",
     "text": [
      "2024-12-23 17:03:11,627 - Live price of BTC/USDT: 93414.62\n"
     ]
    },
    {
     "name": "stdout",
     "output_type": "stream",
     "text": [
      "Live price update: BTC/USDT is 93414.62\n"
     ]
    }
   ],
   "source": [
    "print(\"Starting listener for live prices:\")\n",
    "try:\n",
    "    for _ in range(5):  # Limit to 5 \n",
    "        price = listener.fetch_price(\"BTC/USDT\")\n",
    "        if price:\n",
    "            print(f\"Live price update: {price.symbol} is {price.price}\")\n",
    "        else:\n",
    "            print(\"Failed to fetch live price update.\")\n",
    "        time.sleep(1)  \n",
    "except KeyboardInterrupt:\n",
    "    print(\"Listener stopped.\")"
   ]
  },
  {
   "cell_type": "markdown",
   "metadata": {},
   "source": [
    "## **5. Fetching Historical Data**\n",
    "\n",
    "Retrieve historical OHLCV data for a specific cryptocurrency and timeframe. This example fetches daily data for `BTC/USDT` from January 1, 2023, to June 1, 2023."
   ]
  },
  {
   "cell_type": "code",
   "execution_count": 35,
   "metadata": {},
   "outputs": [],
   "source": [
    "import pandas as pd"
   ]
  },
  {
   "cell_type": "code",
   "execution_count": 36,
   "metadata": {},
   "outputs": [
    {
     "name": "stdout",
     "output_type": "stream",
     "text": [
      "Fetching historical data for BTC/USDT:\n"
     ]
    },
    {
     "name": "stderr",
     "output_type": "stream",
     "text": [
      "2024-12-23 17:03:12,912 - Fetched batch of historical data for BTC/USDT with timeframe 4h.\n"
     ]
    },
    {
     "name": "stdout",
     "output_type": "stream",
     "text": [
      "Fetched 5 records.\n",
      "Sample data:\n",
      "[{'timestamp': datetime.datetime(2024, 12, 23, 1, 0), 'open': 95186.28, 'high': 96043.99, 'low': 93700.42, 'close': 96025.15, 'volume': 6028.4424}, {'timestamp': datetime.datetime(2024, 12, 23, 5, 0), 'open': 96025.15, 'high': 96509.98, 'low': 94705.07, 'close': 95404.01, 'volume': 3919.1348}, {'timestamp': datetime.datetime(2024, 12, 23, 9, 0), 'open': 95404.01, 'high': 96538.92, 'low': 95036.77, 'close': 95932.42, 'volume': 3020.85272}, {'timestamp': datetime.datetime(2024, 12, 23, 13, 0), 'open': 95932.41, 'high': 96423.0, 'low': 93107.52, 'close': 93250.37, 'volume': 8316.98998}, {'timestamp': datetime.datetime(2024, 12, 23, 17, 0), 'open': 93250.38, 'high': 93428.29, 'low': 93201.38, 'close': 93428.29, 'volume': 110.84968}]\n"
     ]
    },
    {
     "data": {
      "text/html": [
       "<style type=\"text/css\">\n",
       "#T_c0f81_row0_col1 {\n",
       "  background-color: #42be71;\n",
       "  color: #f1f1f1;\n",
       "}\n",
       "#T_c0f81_row0_col2 {\n",
       "  background-color: #95d840;\n",
       "  color: #000000;\n",
       "}\n",
       "#T_c0f81_row0_col3 {\n",
       "  background-color: #34618d;\n",
       "  color: #f1f1f1;\n",
       "}\n",
       "#T_c0f81_row0_col4, #T_c0f81_row1_col1, #T_c0f81_row2_col2, #T_c0f81_row2_col3, #T_c0f81_row3_col5 {\n",
       "  background-color: #fde725;\n",
       "  color: #000000;\n",
       "}\n",
       "#T_c0f81_row0_col5 {\n",
       "  background-color: #4ec36b;\n",
       "  color: #000000;\n",
       "}\n",
       "#T_c0f81_row1_col2 {\n",
       "  background-color: #f8e621;\n",
       "  color: #000000;\n",
       "}\n",
       "#T_c0f81_row1_col3 {\n",
       "  background-color: #8bd646;\n",
       "  color: #000000;\n",
       "}\n",
       "#T_c0f81_row1_col4, #T_c0f81_row2_col1 {\n",
       "  background-color: #6ccd5a;\n",
       "  color: #000000;\n",
       "}\n",
       "#T_c0f81_row1_col5 {\n",
       "  background-color: #24878e;\n",
       "  color: #f1f1f1;\n",
       "}\n",
       "#T_c0f81_row2_col4, #T_c0f81_row3_col1 {\n",
       "  background-color: #eae51a;\n",
       "  color: #000000;\n",
       "}\n",
       "#T_c0f81_row2_col5 {\n",
       "  background-color: #2e6d8e;\n",
       "  color: #f1f1f1;\n",
       "}\n",
       "#T_c0f81_row3_col2 {\n",
       "  background-color: #e7e419;\n",
       "  color: #000000;\n",
       "}\n",
       "#T_c0f81_row3_col3, #T_c0f81_row3_col4, #T_c0f81_row4_col1, #T_c0f81_row4_col2, #T_c0f81_row4_col5 {\n",
       "  background-color: #440154;\n",
       "  color: #f1f1f1;\n",
       "}\n",
       "#T_c0f81_row4_col3 {\n",
       "  background-color: #471365;\n",
       "  color: #f1f1f1;\n",
       "}\n",
       "#T_c0f81_row4_col4 {\n",
       "  background-color: #48186a;\n",
       "  color: #f1f1f1;\n",
       "}\n",
       "</style>\n",
       "<table id=\"T_c0f81\">\n",
       "  <thead>\n",
       "    <tr>\n",
       "      <th class=\"blank level0\" >&nbsp;</th>\n",
       "      <th id=\"T_c0f81_level0_col0\" class=\"col_heading level0 col0\" >timestamp</th>\n",
       "      <th id=\"T_c0f81_level0_col1\" class=\"col_heading level0 col1\" >open</th>\n",
       "      <th id=\"T_c0f81_level0_col2\" class=\"col_heading level0 col2\" >high</th>\n",
       "      <th id=\"T_c0f81_level0_col3\" class=\"col_heading level0 col3\" >low</th>\n",
       "      <th id=\"T_c0f81_level0_col4\" class=\"col_heading level0 col4\" >close</th>\n",
       "      <th id=\"T_c0f81_level0_col5\" class=\"col_heading level0 col5\" >volume</th>\n",
       "    </tr>\n",
       "  </thead>\n",
       "  <tbody>\n",
       "    <tr>\n",
       "      <th id=\"T_c0f81_level0_row0\" class=\"row_heading level0 row0\" >0</th>\n",
       "      <td id=\"T_c0f81_row0_col0\" class=\"data row0 col0\" >2024-12-23 01:00:00</td>\n",
       "      <td id=\"T_c0f81_row0_col1\" class=\"data row0 col1\" >95186.280000</td>\n",
       "      <td id=\"T_c0f81_row0_col2\" class=\"data row0 col2\" >96043.990000</td>\n",
       "      <td id=\"T_c0f81_row0_col3\" class=\"data row0 col3\" >93700.420000</td>\n",
       "      <td id=\"T_c0f81_row0_col4\" class=\"data row0 col4\" >96025.150000</td>\n",
       "      <td id=\"T_c0f81_row0_col5\" class=\"data row0 col5\" >6028.442400</td>\n",
       "    </tr>\n",
       "    <tr>\n",
       "      <th id=\"T_c0f81_level0_row1\" class=\"row_heading level0 row1\" >1</th>\n",
       "      <td id=\"T_c0f81_row1_col0\" class=\"data row1 col0\" >2024-12-23 05:00:00</td>\n",
       "      <td id=\"T_c0f81_row1_col1\" class=\"data row1 col1\" >96025.150000</td>\n",
       "      <td id=\"T_c0f81_row1_col2\" class=\"data row1 col2\" >96509.980000</td>\n",
       "      <td id=\"T_c0f81_row1_col3\" class=\"data row1 col3\" >94705.070000</td>\n",
       "      <td id=\"T_c0f81_row1_col4\" class=\"data row1 col4\" >95404.010000</td>\n",
       "      <td id=\"T_c0f81_row1_col5\" class=\"data row1 col5\" >3919.134800</td>\n",
       "    </tr>\n",
       "    <tr>\n",
       "      <th id=\"T_c0f81_level0_row2\" class=\"row_heading level0 row2\" >2</th>\n",
       "      <td id=\"T_c0f81_row2_col0\" class=\"data row2 col0\" >2024-12-23 09:00:00</td>\n",
       "      <td id=\"T_c0f81_row2_col1\" class=\"data row2 col1\" >95404.010000</td>\n",
       "      <td id=\"T_c0f81_row2_col2\" class=\"data row2 col2\" >96538.920000</td>\n",
       "      <td id=\"T_c0f81_row2_col3\" class=\"data row2 col3\" >95036.770000</td>\n",
       "      <td id=\"T_c0f81_row2_col4\" class=\"data row2 col4\" >95932.420000</td>\n",
       "      <td id=\"T_c0f81_row2_col5\" class=\"data row2 col5\" >3020.852720</td>\n",
       "    </tr>\n",
       "    <tr>\n",
       "      <th id=\"T_c0f81_level0_row3\" class=\"row_heading level0 row3\" >3</th>\n",
       "      <td id=\"T_c0f81_row3_col0\" class=\"data row3 col0\" >2024-12-23 13:00:00</td>\n",
       "      <td id=\"T_c0f81_row3_col1\" class=\"data row3 col1\" >95932.410000</td>\n",
       "      <td id=\"T_c0f81_row3_col2\" class=\"data row3 col2\" >96423.000000</td>\n",
       "      <td id=\"T_c0f81_row3_col3\" class=\"data row3 col3\" >93107.520000</td>\n",
       "      <td id=\"T_c0f81_row3_col4\" class=\"data row3 col4\" >93250.370000</td>\n",
       "      <td id=\"T_c0f81_row3_col5\" class=\"data row3 col5\" >8316.989980</td>\n",
       "    </tr>\n",
       "    <tr>\n",
       "      <th id=\"T_c0f81_level0_row4\" class=\"row_heading level0 row4\" >4</th>\n",
       "      <td id=\"T_c0f81_row4_col0\" class=\"data row4 col0\" >2024-12-23 17:00:00</td>\n",
       "      <td id=\"T_c0f81_row4_col1\" class=\"data row4 col1\" >93250.380000</td>\n",
       "      <td id=\"T_c0f81_row4_col2\" class=\"data row4 col2\" >93428.290000</td>\n",
       "      <td id=\"T_c0f81_row4_col3\" class=\"data row4 col3\" >93201.380000</td>\n",
       "      <td id=\"T_c0f81_row4_col4\" class=\"data row4 col4\" >93428.290000</td>\n",
       "      <td id=\"T_c0f81_row4_col5\" class=\"data row4 col5\" >110.849680</td>\n",
       "    </tr>\n",
       "  </tbody>\n",
       "</table>\n"
      ],
      "text/plain": [
       "<pandas.io.formats.style.Styler at 0x2bea57a10>"
      ]
     },
     "execution_count": 36,
     "metadata": {},
     "output_type": "execute_result"
    }
   ],
   "source": [
    "start_date = datetime(2024, 12, 23)\n",
    "# end date now\n",
    "end_date = datetime.now()\n",
    "\n",
    "\n",
    "print(\"Fetching historical data for BTC/USDT:\")\n",
    "historical_data = listener.fetch_historical_data(\"BTC/USDT\", \"4h\", start_date, end_date)\n",
    "if historical_data:\n",
    "    print(f\"Fetched {len(historical_data)} records.\")\n",
    "    print(\"Sample data:\")\n",
    "    print(historical_data[:5])  \n",
    "else:\n",
    "    print(\"Failed to fetch historical data.\")\n",
    "\n",
    "historical_data_df = pd.DataFrame(historical_data)\n",
    "historical_data_df.style.background_gradient(cmap='viridis')"
   ]
  },
  {
   "cell_type": "markdown",
   "metadata": {},
   "source": [
    "## **6. Creating and Canceling an Order**\n",
    "\n",
    "Using the `AlpacaOrderManager`, we create a market order for `BTC/USD`. After a short delay, we attempt to cancel the order."
   ]
  },
  {
   "cell_type": "code",
   "execution_count": 37,
   "metadata": {},
   "outputs": [
    {
     "name": "stdout",
     "output_type": "stream",
     "text": [
      "Creating and attempting to cancel an order:\n"
     ]
    },
    {
     "name": "stderr",
     "output_type": "stream",
     "text": [
      "2024-12-23 17:03:13,624 - Order placed: Order({   'asset_class': 'crypto',\n",
      "    'asset_id': '276e2673-764b-4ab6-a611-caf665ca6340',\n",
      "    'canceled_at': None,\n",
      "    'client_order_id': '38197b18-1d05-4f70-9319-f25ae6575e14',\n",
      "    'created_at': '2024-12-23T16:03:13.577990353Z',\n",
      "    'expired_at': None,\n",
      "    'expires_at': '2025-03-23T20:00:00Z',\n",
      "    'extended_hours': False,\n",
      "    'failed_at': None,\n",
      "    'filled_at': None,\n",
      "    'filled_avg_price': None,\n",
      "    'filled_qty': '0',\n",
      "    'hwm': None,\n",
      "    'id': '5ebad919-1b6e-4fed-b725-4c3c7c97c5ba',\n",
      "    'legs': None,\n",
      "    'limit_price': None,\n",
      "    'notional': None,\n",
      "    'order_class': '',\n",
      "    'order_type': 'market',\n",
      "    'position_intent': 'buy_to_open',\n",
      "    'qty': '0.001',\n",
      "    'replaced_at': None,\n",
      "    'replaced_by': None,\n",
      "    'replaces': None,\n",
      "    'side': 'buy',\n",
      "    'source': None,\n",
      "    'status': 'pending_new',\n",
      "    'stop_price': None,\n",
      "    'submitted_at': '2024-12-23T16:03:13.577990353Z',\n",
      "    'subtag': None,\n",
      "    'symbol': 'BTC/USD',\n",
      "    'time_in_force': 'gtc',\n",
      "    'trail_percent': None,\n",
      "    'trail_price': None,\n",
      "    'type': 'market',\n",
      "    'updated_at': '2024-12-23T16:03:13.578797293Z'})\n"
     ]
    },
    {
     "name": "stdout",
     "output_type": "stream",
     "text": [
      "Order created successfully.\n"
     ]
    },
    {
     "name": "stderr",
     "output_type": "stream",
     "text": [
      "2024-12-23 17:03:18,763 - Error canceling order: order is already in \"filled\" state\n"
     ]
    },
    {
     "name": "stdout",
     "output_type": "stream",
     "text": [
      "Order cancellation failed. It might already be filled.\n"
     ]
    }
   ],
   "source": [
    "print(\"Creating and attempting to cancel an order:\")\n",
    "order = order_manager.create_order(\n",
    "    symbol=\"BTC/USD\",\n",
    "    order_type=OrderType.MARKET,\n",
    "    side=\"buy\",\n",
    "    qty=0.001\n",
    ")\n",
    "if order:\n",
    "    print(\"Order created successfully.\")\n",
    "    time.sleep(5)  # Delay to ensure the order is processed\n",
    "    result = order_manager.cancel_order(order_id=getattr(order, 'id', None))\n",
    "    if result:\n",
    "        print(\"Order canceled successfully.\")\n",
    "    else:\n",
    "        print(\"Order cancellation failed. It might already be filled.\")\n",
    "else:\n",
    "    print(\"Failed to create order.\")"
   ]
  },
  {
   "cell_type": "markdown",
   "metadata": {},
   "source": [
    "## **7. Managing Positions**\n",
    "\n",
    "Retrieve and manage open positions. If a position in `BTC/USD` exists, attempt to exit it."
   ]
  },
  {
   "cell_type": "code",
   "execution_count": 38,
   "metadata": {},
   "outputs": [
    {
     "name": "stderr",
     "output_type": "stream",
     "text": [
      "2024-12-23 17:03:18,904 - Fetched positions: [Position({   'asset_class': 'crypto',\n",
      "    'asset_id': '64bbff51-59d6-4b3c-9351-13ad85e3c752',\n",
      "    'asset_marginable': False,\n",
      "    'avg_entry_price': '93325.975',\n",
      "    'change_today': '-0.0131652817553077',\n",
      "    'cost_basis': '93.120658',\n",
      "    'current_price': '93337.5',\n",
      "    'exchange': 'CRYPTO',\n",
      "    'lastday_price': '94582.708',\n",
      "    'market_value': '93.132158',\n",
      "    'qty': '0.0009978',\n",
      "    'qty_available': '0.0009978',\n",
      "    'side': 'long',\n",
      "    'symbol': 'BTCUSD',\n",
      "    'unrealized_intraday_pl': '0.0115',\n",
      "    'unrealized_intraday_plpc': '0.0001234956909347',\n",
      "    'unrealized_pl': '0.0115',\n",
      "    'unrealized_plpc': '0.0001234956909347'})]\n"
     ]
    },
    {
     "name": "stdout",
     "output_type": "stream",
     "text": [
      "Fetching positions and exiting BTC/USD position:\n",
      "Exiting position for BTCUSD.\n"
     ]
    },
    {
     "name": "stderr",
     "output_type": "stream",
     "text": [
      "2024-12-23 17:03:19,027 - Exiting position: 0.0009978 BTCUSD with a sell order\n",
      "2024-12-23 17:03:19,156 - Order placed: Order({   'asset_class': 'crypto',\n",
      "    'asset_id': '276e2673-764b-4ab6-a611-caf665ca6340',\n",
      "    'canceled_at': None,\n",
      "    'client_order_id': '0ee3b8a6-749c-475a-89f3-5b8c16b6e645',\n",
      "    'created_at': '2024-12-23T16:03:19.110026956Z',\n",
      "    'expired_at': None,\n",
      "    'expires_at': '2025-03-23T20:00:00Z',\n",
      "    'extended_hours': False,\n",
      "    'failed_at': None,\n",
      "    'filled_at': None,\n",
      "    'filled_avg_price': None,\n",
      "    'filled_qty': '0',\n",
      "    'hwm': None,\n",
      "    'id': '86584c81-0b53-488b-a80f-233109b7422e',\n",
      "    'legs': None,\n",
      "    'limit_price': None,\n",
      "    'notional': None,\n",
      "    'order_class': '',\n",
      "    'order_type': 'market',\n",
      "    'position_intent': 'sell_to_close',\n",
      "    'qty': '0.0009978',\n",
      "    'replaced_at': None,\n",
      "    'replaced_by': None,\n",
      "    'replaces': None,\n",
      "    'side': 'sell',\n",
      "    'source': None,\n",
      "    'status': 'pending_new',\n",
      "    'stop_price': None,\n",
      "    'submitted_at': '2024-12-23T16:03:19.110026956Z',\n",
      "    'subtag': None,\n",
      "    'symbol': 'BTC/USD',\n",
      "    'time_in_force': 'gtc',\n",
      "    'trail_percent': None,\n",
      "    'trail_price': None,\n",
      "    'type': 'market',\n",
      "    'updated_at': '2024-12-23T16:03:19.110939356Z'})\n"
     ]
    },
    {
     "name": "stdout",
     "output_type": "stream",
     "text": [
      "Position for BTCUSD exited successfully.\n"
     ]
    }
   ],
   "source": [
    "print(\"Fetching positions and exiting BTC/USD position:\")\n",
    "positions = order_manager.fetch_positions()\n",
    "if positions:\n",
    "    for position in positions:\n",
    "        symbol = getattr(position, 'symbol', None)\n",
    "        if symbol == \"BTCUSD\":\n",
    "            print(f\"Exiting position for {symbol}.\")\n",
    "            result = order_manager.exit_position(symbol)\n",
    "            if result:\n",
    "                print(f\"Position for {symbol} exited successfully.\")\n",
    "            else:\n",
    "                print(f\"Failed to exit position for {symbol}.\")\n",
    "else:\n",
    "    print(\"No positions to exit.\")"
   ]
  },
  {
   "cell_type": "markdown",
   "metadata": {},
   "source": [
    "## **8. Fetching Open Orders**\n",
    "\n",
    "Check for any open orders using the `fetch_open_orders` method."
   ]
  },
  {
   "cell_type": "code",
   "execution_count": 39,
   "metadata": {},
   "outputs": [
    {
     "name": "stderr",
     "output_type": "stream",
     "text": [
      "2024-12-23 17:03:19,286 - Open orders: []\n"
     ]
    },
    {
     "name": "stdout",
     "output_type": "stream",
     "text": [
      "Fetching open orders:\n",
      "No open orders found.\n"
     ]
    }
   ],
   "source": [
    "print(\"Fetching open orders:\")\n",
    "open_orders = order_manager.fetch_open_orders()\n",
    "if open_orders:\n",
    "    print(f\"Found {len(open_orders)} open orders.\")\n",
    "else:\n",
    "    print(\"No open orders found.\")"
   ]
  },
  {
   "cell_type": "markdown",
   "metadata": {},
   "source": [
    "## **9. Wrap-Up**\n",
    "\n",
    "This concludes the demonstration of the CryptoKit functionalities. Check the logs for detailed information on all operations."
   ]
  },
  {
   "cell_type": "code",
   "execution_count": 40,
   "metadata": {},
   "outputs": [
    {
     "name": "stderr",
     "output_type": "stream",
     "text": [
      "2024-12-23 17:03:19,300 - Finished executing the CryptoKit Example Notebook\n"
     ]
    },
    {
     "name": "stdout",
     "output_type": "stream",
     "text": [
      "All examples executed successfully.\n"
     ]
    }
   ],
   "source": [
    "logger.log(\"Finished executing the CryptoKit Example Notebook\")"
   ]
  },
  {
   "cell_type": "code",
   "execution_count": 29,
   "metadata": {},
   "outputs": [
    {
     "name": "stdout",
     "output_type": "stream",
     "text": [
      "Fetching all logs from the database:\n",
      "   id            timestamp                                            message\n",
      "0  24  2024-12-23 16:00:22  Finished executing the CryptoKit Example Notebook\n",
      "1  23  2024-12-23 16:00:03                                    Open orders: []\n",
      "2  20  2024-12-23 15:59:19  Fetched positions: [Position({   'asset_class'...\n",
      "3  21  2024-12-23 15:59:19  Exiting position: 0.0009978 BTCUSD with a sell...\n",
      "4  22  2024-12-23 15:59:19  Order placed: Order({   'asset_class': 'crypto...\n",
      "[2024-12-23 16:00:22] Finished executing the CryptoKit Example Notebook\n",
      "[2024-12-23 16:00:03] Open orders: []\n",
      "[2024-12-23 15:59:19] Fetched positions: [Position({   'asset_class': 'crypto',\n",
      "    'asset_id': '64bbff51-59d6-4b3c-9351-13ad85e3c752',\n",
      "    'asset_marginable': False,\n",
      "    'avg_entry_price': '93063.75',\n",
      "    'change_today': '-0.0145874233163212',\n",
      "    'cost_basis': '92.85901',\n",
      "    'current_price': '93202.99',\n",
      "    'exchange': 'CRYPTO',\n",
      "    'lastday_price': '94582.708',\n",
      "    'market_value': '92.997943',\n",
      "    'qty': '0.0009978',\n",
      "    'qty_available': '0.0009978',\n",
      "    'side': 'long',\n",
      "    'symbol': 'BTCUSD',\n",
      "    'unrealized_intraday_pl': '0.138933',\n",
      "    'unrealized_intraday_plpc': '0.0014961714539063',\n",
      "    'unrealized_pl': '0.138933',\n",
      "    'unrealized_plpc': '0.0014961714539063'})]\n",
      "[2024-12-23 15:59:19] Exiting position: 0.0009978 BTCUSD with a sell order\n",
      "[2024-12-23 15:59:19] Order placed: Order({   'asset_class': 'crypto',\n",
      "    'asset_id': '276e2673-764b-4ab6-a611-caf665ca6340',\n",
      "    'canceled_at': None,\n",
      "    'client_order_id': '34692728-4963-46ca-9c93-555429ec0f6f',\n",
      "    'created_at': '2024-12-23T15:59:19.240127036Z',\n",
      "    'expired_at': None,\n",
      "    'expires_at': '2025-03-23T20:00:00Z',\n",
      "    'extended_hours': False,\n",
      "    'failed_at': None,\n",
      "    'filled_at': None,\n",
      "    'filled_avg_price': None,\n",
      "    'filled_qty': '0',\n",
      "    'hwm': None,\n",
      "    'id': 'ef982d23-7e2d-441c-963d-1361f0bedcdd',\n",
      "    'legs': None,\n",
      "    'limit_price': None,\n",
      "    'notional': None,\n",
      "    'order_class': '',\n",
      "    'order_type': 'market',\n",
      "    'position_intent': 'sell_to_close',\n",
      "    'qty': '0.0009978',\n",
      "    'replaced_at': None,\n",
      "    'replaced_by': None,\n",
      "    'replaces': None,\n",
      "    'side': 'sell',\n",
      "    'source': None,\n",
      "    'status': 'pending_new',\n",
      "    'stop_price': None,\n",
      "    'submitted_at': '2024-12-23T15:59:19.240127036Z',\n",
      "    'subtag': None,\n",
      "    'symbol': 'BTC/USD',\n",
      "    'time_in_force': 'gtc',\n",
      "    'trail_percent': None,\n",
      "    'trail_price': None,\n",
      "    'type': 'market',\n",
      "    'updated_at': '2024-12-23T15:59:19.241012426Z'})\n",
      "[2024-12-23 15:58:56] Error canceling order: order is already in \"filled\" state\n",
      "[2024-12-23 15:58:51] Order placed: Order({   'asset_class': 'crypto',\n",
      "    'asset_id': '276e2673-764b-4ab6-a611-caf665ca6340',\n",
      "    'canceled_at': None,\n",
      "    'client_order_id': '3646e153-b576-49b6-abeb-2708f01a9887',\n",
      "    'created_at': '2024-12-23T15:58:51.435495337Z',\n",
      "    'expired_at': None,\n",
      "    'expires_at': '2025-03-23T20:00:00Z',\n",
      "    'extended_hours': False,\n",
      "    'failed_at': None,\n",
      "    'filled_at': None,\n",
      "    'filled_avg_price': None,\n",
      "    'filled_qty': '0',\n",
      "    'hwm': None,\n",
      "    'id': '3db85fc9-9b34-4fa2-8413-b7c887e21f5a',\n",
      "    'legs': None,\n",
      "    'limit_price': None,\n",
      "    'notional': None,\n",
      "    'order_class': '',\n",
      "    'order_type': 'market',\n",
      "    'position_intent': 'buy_to_open',\n",
      "    'qty': '0.001',\n",
      "    'replaced_at': None,\n",
      "    'replaced_by': None,\n",
      "    'replaces': None,\n",
      "    'side': 'buy',\n",
      "    'source': None,\n",
      "    'status': 'pending_new',\n",
      "    'stop_price': None,\n",
      "    'submitted_at': '2024-12-23T15:58:51.435495337Z',\n",
      "    'subtag': None,\n",
      "    'symbol': 'BTC/USD',\n",
      "    'time_in_force': 'gtc',\n",
      "    'trail_percent': None,\n",
      "    'trail_price': None,\n",
      "    'type': 'market',\n",
      "    'updated_at': '2024-12-23T15:58:51.435898487Z'})\n",
      "[2024-12-23 15:57:48] Fetched batch of historical data for BTC/USDT with timeframe 4h.\n",
      "[2024-12-23 15:57:12] Fetched batch of historical data for BTC/USDT with timeframe 4h.\n",
      "[2024-12-23 15:57:12] Fetched batch of historical data for BTC/USDT with timeframe 4h.\n",
      "[2024-12-23 15:56:49] Fetched batch of historical data for BTC/USDT with timeframe 4h.\n",
      "[2024-12-23 15:56:49] Fetched batch of historical data for BTC/USDT with timeframe 4h.\n",
      "[2024-12-23 15:56:33] Fetched batch of historical data for BTC/USDT with timeframe 4h.\n",
      "[2024-12-23 15:56:33] Fetched batch of historical data for BTC/USDT with timeframe 4h.\n",
      "[2024-12-23 15:56:15] Fetched batch of historical data for BTC/USDT with timeframe 4h.\n",
      "[2024-12-23 15:56:15] Fetched batch of historical data for BTC/USDT with timeframe 4h.\n",
      "[2024-12-23 15:54:51] Live price of BTC/USDT: 93112.57\n",
      "[2024-12-23 15:54:50] Live price of BTC/USDT: 93112.56\n",
      "[2024-12-23 15:54:49] Live price of BTC/USDT: 93112.57\n",
      "[2024-12-23 15:54:47] Live price of BTC/USDT: 93112.57\n",
      "[2024-12-23 15:54:46] Live price of BTC/USDT: 93112.57\n",
      "[2024-12-23 15:54:12] Live price of BTC/USDT: 93200.0\n",
      "[2024-12-23 15:53:58] Live price of BTC/USDT: 93145.87\n",
      "[2024-12-23 15:53:38] Starting the CryptoKit Example Notebook\n"
     ]
    }
   ],
   "source": [
    "import sqlite3\n",
    "import pandas as pd\n",
    "\n",
    "def fetch_all_logs(db_path: str) -> pd.DataFrame:\n",
    "    \"\"\"\n",
    "    Fetch all logs from the database and return as a pandas DataFrame.\n",
    "    \"\"\"\n",
    "    conn = sqlite3.connect(db_path)\n",
    "    query = \"SELECT * FROM logs ORDER BY timestamp DESC\"\n",
    "    logs_df = pd.read_sql_query(query, conn)\n",
    "    conn.close()\n",
    "    return logs_df\n",
    "\n",
    "# Fetch and display all logs\n",
    "print(\"Fetching all logs from the database:\")\n",
    "logs_df = fetch_all_logs(\"example_logs.db\")\n",
    "if not logs_df.empty:\n",
    "    print(logs_df.head())  # Display the first few logs\n",
    "else:\n",
    "    print(\"No logs found.\")\n",
    "\n",
    "# Optionally, display the logs in a more detailed way\n",
    "for _, row in logs_df.iterrows():\n",
    "    print(f\"[{row['timestamp']}] {row['message']}\")"
   ]
  }
 ],
 "metadata": {
  "kernelspec": {
   "display_name": "base",
   "language": "python",
   "name": "python3"
  },
  "language_info": {
   "codemirror_mode": {
    "name": "ipython",
    "version": 3
   },
   "file_extension": ".py",
   "mimetype": "text/x-python",
   "name": "python",
   "nbconvert_exporter": "python",
   "pygments_lexer": "ipython3",
   "version": "3.11.5"
  }
 },
 "nbformat": 4,
 "nbformat_minor": 2
}
